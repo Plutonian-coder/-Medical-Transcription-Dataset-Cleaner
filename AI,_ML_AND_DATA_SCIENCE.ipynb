{
  "cells": [
    {
      "cell_type": "markdown",
      "metadata": {
        "id": "view-in-github",
        "colab_type": "text"
      },
      "source": [
        "<a href=\"https://colab.research.google.com/github/Plutonian-coder/-Medical-Transcription-Dataset-Cleaner/blob/main/AI%2C_ML_AND_DATA_SCIENCE.ipynb\" target=\"_parent\"><img src=\"https://colab.research.google.com/assets/colab-badge.svg\" alt=\"Open In Colab\"/></a>"
      ]
    },
    {
      "cell_type": "code",
      "execution_count": null,
      "metadata": {
        "id": "_fW47u32rdDA"
      },
      "outputs": [],
      "source": [
        "print(\"Hello, Data World!\")"
      ]
    },
    {
      "cell_type": "code",
      "execution_count": null,
      "metadata": {
        "id": "HXnwyp5wrowx"
      },
      "outputs": [],
      "source": [
        "# Storing a string (text)\n",
        "student_name = \"Aisha\"\n",
        "\n",
        "# Storing an integer (a whole number)\n",
        "age = 25\n",
        "\n",
        "# Storing a float (a decimal number)\n",
        "score = 92.8\n",
        "\n",
        "# Now we can use the \"box\"\n",
        "print(student_name)\n",
        "print(age)"
      ]
    },
    {
      "cell_type": "code",
      "source": [
        "# A list of student names\n",
        "students = [\"Ali\", \"Tobi\", \"Grace\"]\n",
        "\n",
        "print(students)\n",
        "\n",
        "# You can check the type of any variable using the type() function\n",
        "type(age)"
      ],
      "metadata": {
        "id": "rEDQYUF99g-H"
      },
      "execution_count": null,
      "outputs": []
    },
    {
      "cell_type": "code",
      "source": [
        "age = 20\n",
        "\n",
        "if age >= 18:\n",
        "  print(\"This person is eligible to vote.\")\n",
        "else:\n",
        "  print(\"This person is not eligible yet.\")"
      ],
      "metadata": {
        "id": "9_Cexe5p9moV"
      },
      "execution_count": null,
      "outputs": []
    },
    {
      "cell_type": "code",
      "source": [
        "git init\n",
        "git clone https://github.com/Plutonian-coder/ai-and-ml.git\n",
        "git remote origin add"
      ],
      "metadata": {
        "id": "gcWhp4QRArM_"
      },
      "execution_count": null,
      "outputs": []
    }
  ],
  "metadata": {
    "colab": {
      "provenance": [],
      "authorship_tag": "ABX9TyNSZcak23JzH0oR8TI4ZPBh",
      "include_colab_link": true
    },
    "kernelspec": {
      "display_name": "Python 3",
      "name": "python3"
    },
    "language_info": {
      "name": "python"
    }
  },
  "nbformat": 4,
  "nbformat_minor": 0
}